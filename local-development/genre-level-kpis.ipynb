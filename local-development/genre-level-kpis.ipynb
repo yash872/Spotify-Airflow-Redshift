{
 "cells": [
  {
   "cell_type": "code",
   "execution_count": 1,
   "id": "f40796f9-dbeb-41f4-aa08-7b8657db7beb",
   "metadata": {},
   "outputs": [],
   "source": [
    "import pandas as pd\n",
    "songs = pd.read_csv('../data/songs.csv')\n",
    "streams = pd.read_csv('../data/streams1.csv')"
   ]
  },
  {
   "cell_type": "code",
   "execution_count": 2,
   "id": "c589b023-aaff-4fcc-a613-b902d8227b16",
   "metadata": {},
   "outputs": [],
   "source": [
    "# Prepare data\n",
    "streams['listen_date'] = pd.to_datetime(streams['listen_time']).dt.date\n",
    "merged_data = streams.merge(songs, on='track_id', how='left')\n",
    "\n",
    "# Compute each KPI\n",
    "# KPI 1: Daily Genre Listen Count\n",
    "genre_listen_count = merged_data.groupby(['listen_date', 'track_genre']).size().reset_index(name='listen_count')\n",
    "\n",
    "# KPI 2: Average Listening Duration per Genre per Day\n",
    "merged_data['duration_seconds'] = merged_data['duration_ms'] / 1000\n",
    "avg_duration = merged_data.groupby(['listen_date', 'track_genre'])['duration_seconds'].mean().reset_index(name='average_duration')\n",
    "\n",
    "# KPI 3: Daily Genre Popularity Index\n",
    "total_listens = merged_data.groupby('listen_date').size().reset_index(name='total_listens')\n",
    "genre_listen_count = genre_listen_count.merge(total_listens, on='listen_date')\n",
    "genre_listen_count['popularity_index'] = genre_listen_count['listen_count'] / genre_listen_count['total_listens']\n",
    "\n",
    "# KPI 4: Most Popular Track per Genre per Day\n",
    "most_popular_track = merged_data.groupby(['listen_date', 'track_genre', 'track_id']).size().reset_index(name='track_count')\n",
    "most_popular_track = most_popular_track.sort_values(by=['listen_date', 'track_genre', 'track_count'], ascending=[True, True, False])\n",
    "most_popular_track = most_popular_track.drop_duplicates(subset=['listen_date', 'track_genre'], keep='first').rename(columns={'track_id': 'most_popular_track_id'})\n",
    "\n",
    "# Combine all KPIs into one DataFrame\n",
    "final_kpis = genre_listen_count[['listen_date', 'track_genre', 'listen_count', 'popularity_index']]\n",
    "final_kpis = final_kpis.merge(avg_duration, on=['listen_date', 'track_genre'])\n",
    "final_kpis = final_kpis.merge(most_popular_track[['listen_date', 'track_genre', 'most_popular_track_id']], on=['listen_date', 'track_genre'])"
   ]
  },
  {
   "cell_type": "code",
   "execution_count": 3,
   "id": "7bb5f5ce-efa2-41ae-9e31-e599a43ff96e",
   "metadata": {},
   "outputs": [
    {
     "data": {
      "text/html": [
       "<div>\n",
       "<style scoped>\n",
       "    .dataframe tbody tr th:only-of-type {\n",
       "        vertical-align: middle;\n",
       "    }\n",
       "\n",
       "    .dataframe tbody tr th {\n",
       "        vertical-align: top;\n",
       "    }\n",
       "\n",
       "    .dataframe thead th {\n",
       "        text-align: right;\n",
       "    }\n",
       "</style>\n",
       "<table border=\"1\" class=\"dataframe\">\n",
       "  <thead>\n",
       "    <tr style=\"text-align: right;\">\n",
       "      <th></th>\n",
       "      <th>listen_date</th>\n",
       "      <th>track_genre</th>\n",
       "      <th>listen_count</th>\n",
       "      <th>popularity_index</th>\n",
       "      <th>average_duration</th>\n",
       "      <th>most_popular_track_id</th>\n",
       "    </tr>\n",
       "  </thead>\n",
       "  <tbody>\n",
       "    <tr>\n",
       "      <th>0</th>\n",
       "      <td>2024-06-25</td>\n",
       "      <td>acoustic</td>\n",
       "      <td>118</td>\n",
       "      <td>0.010400</td>\n",
       "      <td>215.379034</td>\n",
       "      <td>0WWuB1F1H4dr3Bdoe1vtHs</td>\n",
       "    </tr>\n",
       "    <tr>\n",
       "      <th>1</th>\n",
       "      <td>2024-06-25</td>\n",
       "      <td>afrobeat</td>\n",
       "      <td>124</td>\n",
       "      <td>0.010929</td>\n",
       "      <td>248.978960</td>\n",
       "      <td>1KME77F9mu2RQS8vo6JVwa</td>\n",
       "    </tr>\n",
       "    <tr>\n",
       "      <th>2</th>\n",
       "      <td>2024-06-25</td>\n",
       "      <td>alt-rock</td>\n",
       "      <td>119</td>\n",
       "      <td>0.010488</td>\n",
       "      <td>236.073731</td>\n",
       "      <td>0GO8y8jQk1PkHzS31d699N</td>\n",
       "    </tr>\n",
       "    <tr>\n",
       "      <th>3</th>\n",
       "      <td>2024-06-25</td>\n",
       "      <td>alternative</td>\n",
       "      <td>45</td>\n",
       "      <td>0.003966</td>\n",
       "      <td>202.768200</td>\n",
       "      <td>0YwBrYaPYYc8e18ZYkqhJc</td>\n",
       "    </tr>\n",
       "    <tr>\n",
       "      <th>4</th>\n",
       "      <td>2024-06-25</td>\n",
       "      <td>ambient</td>\n",
       "      <td>119</td>\n",
       "      <td>0.010488</td>\n",
       "      <td>255.296067</td>\n",
       "      <td>2tr4oclswJ6v3dfDlI01HD</td>\n",
       "    </tr>\n",
       "  </tbody>\n",
       "</table>\n",
       "</div>"
      ],
      "text/plain": [
       "  listen_date  track_genre  listen_count  popularity_index  average_duration  \\\n",
       "0  2024-06-25     acoustic           118          0.010400        215.379034   \n",
       "1  2024-06-25     afrobeat           124          0.010929        248.978960   \n",
       "2  2024-06-25     alt-rock           119          0.010488        236.073731   \n",
       "3  2024-06-25  alternative            45          0.003966        202.768200   \n",
       "4  2024-06-25      ambient           119          0.010488        255.296067   \n",
       "\n",
       "    most_popular_track_id  \n",
       "0  0WWuB1F1H4dr3Bdoe1vtHs  \n",
       "1  1KME77F9mu2RQS8vo6JVwa  \n",
       "2  0GO8y8jQk1PkHzS31d699N  \n",
       "3  0YwBrYaPYYc8e18ZYkqhJc  \n",
       "4  2tr4oclswJ6v3dfDlI01HD  "
      ]
     },
     "execution_count": 3,
     "metadata": {},
     "output_type": "execute_result"
    }
   ],
   "source": [
    "final_kpis.head()"
   ]
  },
  {
   "cell_type": "code",
   "execution_count": null,
   "id": "059368b7-7aa6-4f2a-b590-3e460ac49a1b",
   "metadata": {},
   "outputs": [],
   "source": []
  },
  {
   "cell_type": "code",
   "execution_count": null,
   "id": "7c0c2664-1f68-4313-a687-09103db51e3f",
   "metadata": {},
   "outputs": [],
   "source": []
  },
  {
   "cell_type": "code",
   "execution_count": null,
   "id": "5fcec7b9-2b5a-4218-b95b-726367025f50",
   "metadata": {},
   "outputs": [],
   "source": []
  },
  {
   "cell_type": "code",
   "execution_count": null,
   "id": "8e0ab28e-556c-45e1-b488-045bcb6933ae",
   "metadata": {},
   "outputs": [],
   "source": []
  }
 ],
 "metadata": {
  "kernelspec": {
   "display_name": "Python 3 (ipykernel)",
   "language": "python",
   "name": "python3"
  },
  "language_info": {
   "codemirror_mode": {
    "name": "ipython",
    "version": 3
   },
   "file_extension": ".py",
   "mimetype": "text/x-python",
   "name": "python",
   "nbconvert_exporter": "python",
   "pygments_lexer": "ipython3",
   "version": "3.11.6"
  }
 },
 "nbformat": 4,
 "nbformat_minor": 5
}
